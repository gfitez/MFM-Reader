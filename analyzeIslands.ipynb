{
 "cells": [
  {
   "cell_type": "code",
   "execution_count": 40,
   "metadata": {},
   "outputs": [
    {
     "name": "stdout",
     "output_type": "stream",
     "text": [
      "[('(-1, 1, -1)', 0.32175925925925924), ('(1, -1, 1)', 0.21296296296296297), ('(-1, 1, 1)', 0.0625), ('(1, -1, -1)', 0.05555555555555555), ('(-1, -1, 1)', 0.12268518518518519), ('(0, 0, 0)', 0.1736111111111111), ('(0, -1, 1)', 0.0023148148148148147), ('(1, 1, -1)', 0.032407407407407406), ('(1, 1, 0)', 0.0023148148148148147), ('(1, 0, 0)', 0.0023148148148148147), ('(0, 1, -1)', 0.0023148148148148147), ('(0, 0, -1)', 0.004629629629629629), ('(-1, 1, 0)', 0.0023148148148148147), ('(0, 0, 1)', 0.0023148148148148147)]\n",
      "\n"
     ]
    },
    {
     "data": {
      "image/png": "[encoded data removed]",
      "text/plain": [
       "<Figure size 960x480 with 1 Axes>"
      ]
     },
     "metadata": {
      "needs_background": "light"
     },
     "output_type": "display_data"
    }
   ],
   "source": [
    "import matplotlib.pyplot as plt\n",
    "\n",
    "def getFileData(file):\n",
    "    file=file.read().replace(\"\\t\",\"\")\n",
    "    \n",
    "    file=file.replace(\"\\r\",\"\")#some systems use \\r\\n, others use \\n\n",
    "    file=file.split(\"\\n\")\n",
    "    \n",
    "    file=[line.split(\", \") for line in file]\n",
    "    return file\n",
    "\n",
    "data=getFileData(open(\"output.csv\"))\n",
    "islands=[]\n",
    "for row in data[2:]:\n",
    "    i=0\n",
    "    while(i<len(row)):\n",
    "        nodes=row[i:i+3]\n",
    "        \n",
    "        if i<len(nodes)-1 and (row[i]==0 or row[i+1]==0 or row[i+2]==0):\n",
    "            nodes=[0,0,0]\n",
    "        if(len(nodes)==3):\n",
    "            nodes=tuple([int(i) for i in nodes])\n",
    "            islands.append(nodes)\n",
    "        i+=3\n",
    "\n",
    "\n",
    "counts={}\n",
    "for island in islands:\n",
    "    id=str(island)\n",
    "    if id in counts:\n",
    "        counts[id]+=1\n",
    "    else:\n",
    "        counts[id]=1\n",
    "\n",
    "total=sum(counts.values())\n",
    "\n",
    "keys=counts.keys()\n",
    "heights=counts.values()\n",
    "xValue=range(len(keys))\n",
    "\n",
    "heights=[i/total for i in heights]\n",
    "\n",
    "from matplotlib.pyplot import figure\n",
    "\n",
    "figure(figsize=(12, 6), dpi=80)\n",
    "plt.bar(keys,heights)\n",
    "print(list(zip(keys,heights)))\n",
    "print()\n",
    "    "
   ]
  },
  {
   "cell_type": "code",
   "execution_count": null,
   "metadata": {},
   "outputs": [],
   "source": []
  }
 ],
 "metadata": {
  "interpreter": {
   "hash": "abab264479ba0808c8fb8601db8772b4dcd0b38dac3742af83d5cbe6cb4cf654"
  },
  "kernelspec": {
   "display_name": "Python 3.8.8 ('base')",
   "language": "python",
   "name": "python3"
  },
  "language_info": {
   "codemirror_mode": {
    "name": "ipython",
    "version": 3
   },
   "file_extension": ".py",
   "mimetype": "text/x-python",
   "name": "python",
   "nbconvert_exporter": "python",
   "pygments_lexer": "ipython3",
   "version": "3.8.8"
  },
  "orig_nbformat": 4
 },
 "nbformat": 4,
 "nbformat_minor": 2
}
